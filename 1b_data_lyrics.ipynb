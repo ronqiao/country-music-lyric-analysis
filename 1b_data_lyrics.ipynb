{
 "cells": [
  {
   "cell_type": "markdown",
   "metadata": {},
   "source": [
    "# __Country Music Lyric Analysis__\n",
    "#### Analyzing song lyrics with natural language processing and Non-negative Matrix Factorization (NMF) / Correlation Explanation (CorEx) topic models  \n",
    "<hr>  \n",
    "This project explores Country music as a genre by extracting and analyzing lyrics from songs posted on [Billboard's weekly hot 50 charts](https://www.billboard.com/archive/charts/2018/country-songs). Topic modeling, though not an exhaustive approach, proves useful in exploring music genres by allowing users to discover previously hidden themes and motifs in song lyrics. Introducing a time series element to the dataset also allows users to visualize trends in topic distributions over several decades.     \n",
    "\n",
    "In this case, the models and visualizations demonstrate how country music can in fact, be quite relatable; namely, that its lyrics represent a lot more than just beer, trucks, and women (themes commonly present in modern day bro-country). Applying CorEx / word anchors in a semi-supervised learning manner also reveals some more interesting, esoteric topics in Country music.  \n",
    "\n",
    "The project can be broken down into the following steps:  \n",
    "\n",
    "#### ***1. Data Acquisition***  \n",
    "\\- 1a. Scrape Billboard chart archives and populate corpus of country songs  \n",
    "\\- ***1b. Scrape lyrics for each song from WikiLyrics and Genius APIs***\n",
    "#### 2. Preprocessing - Lyrics / Data  \n",
    "\\- 2a. Use natural language processing and other methods to process text lyrics and data. Introduce some EDA and basic feature engineering    \n",
    "#### 3. Topic Models / Lyric Analysis   \n",
    "\\- 3a. Apply non-negative matrix factorzation and CorEx to model topics and then analyze the results  \n",
    "\n"
   ]
  },
  {
   "cell_type": "markdown",
   "metadata": {},
   "source": [
    "<hr>"
   ]
  },
  {
   "cell_type": "markdown",
   "metadata": {},
   "source": [
    "# __1b. Data Acquisition - Lyrics__\n",
    "\n",
    "### __Sections__  \n",
    "\n",
    "[1b1. Load corpus of country songs](#1b1)  \n",
    "[1b2. Scrape lyrics from WikiLyrics](#1b2)  \n",
    "[1b3. Scrape remaining lyrics from Genius](#1b3)  \n",
    "[1b4. Merge / Prepare data for preprocessing](#1b4)"
   ]
  },
  {
   "cell_type": "code",
   "execution_count": 1,
   "metadata": {},
   "outputs": [],
   "source": [
    "import numpy as np\n",
    "import pandas as pd\n",
    "import re\n",
    "import os\n",
    "import warnings\n",
    "from time import sleep\n",
    "\n",
    "# Imports for lyric scraping\n",
    "import pprint\n",
    "import requests\n",
    "from PyLyrics import *\n",
    "from bs4 import BeautifulSoup\n",
    "from tqdm import tqdm\n",
    "from multiprocessing import Pool\n",
    "\n",
    "from keys import genius_id, genius_secret, genius_token\n",
    "from rq_config import project_4_path\n",
    "\n",
    "warnings.filterwarnings('ignore')"
   ]
  },
  {
   "cell_type": "markdown",
   "metadata": {},
   "source": [
    "<a id='1b1'></a>"
   ]
  },
  {
   "cell_type": "markdown",
   "metadata": {},
   "source": [
    "### __1b1. Load corpus of country songs__"
   ]
  },
  {
   "cell_type": "code",
   "execution_count": 2,
   "metadata": {},
   "outputs": [],
   "source": [
    "# Directory where data is stored\n",
    "\n",
    "data_dir = os.path.join(project_4_path,'data/')"
   ]
  },
  {
   "cell_type": "code",
   "execution_count": 3,
   "metadata": {},
   "outputs": [],
   "source": [
    "# Load scraped billboard songs\n",
    "\n",
    "tracks_df = pd.read_pickle(data_dir + 'tracks_df.pkl')"
   ]
  },
  {
   "cell_type": "code",
   "execution_count": 4,
   "metadata": {},
   "outputs": [
    {
     "data": {
      "text/html": [
       "<div>\n",
       "<style scoped>\n",
       "    .dataframe tbody tr th:only-of-type {\n",
       "        vertical-align: middle;\n",
       "    }\n",
       "\n",
       "    .dataframe tbody tr th {\n",
       "        vertical-align: top;\n",
       "    }\n",
       "\n",
       "    .dataframe thead th {\n",
       "        text-align: right;\n",
       "    }\n",
       "</style>\n",
       "<table border=\"1\" class=\"dataframe\">\n",
       "  <thead>\n",
       "    <tr style=\"text-align: right;\">\n",
       "      <th></th>\n",
       "      <th>title</th>\n",
       "      <th>artist</th>\n",
       "      <th>weeks</th>\n",
       "      <th>week_count</th>\n",
       "    </tr>\n",
       "  </thead>\n",
       "  <tbody>\n",
       "    <tr>\n",
       "      <th>0</th>\n",
       "      <td>\"Never More\" Quote The Raven</td>\n",
       "      <td>Stonewall Jackson</td>\n",
       "      <td>1969-08-03,1969-07-27,1969-07-20,1969-07-13,19...</td>\n",
       "      <td>7</td>\n",
       "    </tr>\n",
       "    <tr>\n",
       "      <th>1</th>\n",
       "      <td>\"You've Got\" The Touch</td>\n",
       "      <td>Alabama</td>\n",
       "      <td>1987-04-26,1987-04-19,1987-04-12,1987-04-05,19...</td>\n",
       "      <td>15</td>\n",
       "    </tr>\n",
       "    <tr>\n",
       "      <th>2</th>\n",
       "      <td>'57 Chevrolet</td>\n",
       "      <td>Billie Jo Spears</td>\n",
       "      <td>1978-10-15,1978-10-08,1978-10-01,1978-09-24,19...</td>\n",
       "      <td>9</td>\n",
       "    </tr>\n",
       "    <tr>\n",
       "      <th>3</th>\n",
       "      <td>'Cause I Have You</td>\n",
       "      <td>Wynn Stewart</td>\n",
       "      <td>1967-10-22,1967-10-15,1967-10-08,1967-10-01,19...</td>\n",
       "      <td>14</td>\n",
       "    </tr>\n",
       "    <tr>\n",
       "      <th>4</th>\n",
       "      <td>'Fore She Was Mama</td>\n",
       "      <td>Clay Walker</td>\n",
       "      <td>2007-03-18,2007-03-11,2007-03-04,2007-02-25,20...</td>\n",
       "      <td>25</td>\n",
       "    </tr>\n",
       "  </tbody>\n",
       "</table>\n",
       "</div>"
      ],
      "text/plain": [
       "                          title             artist  \\\n",
       "0  \"Never More\" Quote The Raven  Stonewall Jackson   \n",
       "1        \"You've Got\" The Touch            Alabama   \n",
       "2                 '57 Chevrolet   Billie Jo Spears   \n",
       "3             'Cause I Have You       Wynn Stewart   \n",
       "4            'Fore She Was Mama        Clay Walker   \n",
       "\n",
       "                                               weeks  week_count  \n",
       "0  1969-08-03,1969-07-27,1969-07-20,1969-07-13,19...           7  \n",
       "1  1987-04-26,1987-04-19,1987-04-12,1987-04-05,19...          15  \n",
       "2  1978-10-15,1978-10-08,1978-10-01,1978-09-24,19...           9  \n",
       "3  1967-10-22,1967-10-15,1967-10-08,1967-10-01,19...          14  \n",
       "4  2007-03-18,2007-03-11,2007-03-04,2007-02-25,20...          25  "
      ]
     },
     "execution_count": 4,
     "metadata": {},
     "output_type": "execute_result"
    }
   ],
   "source": [
    "tracks_df.head()"
   ]
  },
  {
   "cell_type": "code",
   "execution_count": 5,
   "metadata": {},
   "outputs": [
    {
     "data": {
      "text/plain": [
       "(12375, 4)"
      ]
     },
     "execution_count": 5,
     "metadata": {},
     "output_type": "execute_result"
    }
   ],
   "source": [
    "tracks_df.shape"
   ]
  },
  {
   "cell_type": "markdown",
   "metadata": {},
   "source": [
    "<a id='1b2'></a>"
   ]
  },
  {
   "cell_type": "markdown",
   "metadata": {},
   "source": [
    "### __1b2. Scrape from WikiLyrics__  \n",
    "Scrape lyrics using WikiLyrics as a source first since WikiLyrics has more reliable results / lyrics"
   ]
  },
  {
   "cell_type": "code",
   "execution_count": 6,
   "metadata": {},
   "outputs": [],
   "source": [
    "def query_wikilyrics(query):\n",
    "    \"\"\"\n",
    "    Queries WikiLyrics with API with Pylyrics library, returns song lyrics if match is found.\n",
    "    \n",
    "    Parameters\n",
    "    -----\n",
    "        query: str containing concatenated song title and artist\n",
    "    \n",
    "    Returns\n",
    "    -----\n",
    "        str: lyrics\n",
    "    \"\"\"\n",
    "    # Separate artist and title from query object\n",
    "    artist = query[0]\n",
    "    title = query[1]\n",
    "    try:\n",
    "        try:\n",
    "            return PyLyrics.getLyrics(artist,title)\n",
    "        except requests.exceptions.ConnectionError:\n",
    "            sleep(1)\n",
    "            return PyLyrics.getLyrics(artist,title)\n",
    "    except ValueError:\n",
    "        return None\n",
    "    "
   ]
  },
  {
   "cell_type": "code",
   "execution_count": 7,
   "metadata": {},
   "outputs": [],
   "source": [
    "def pull_lyrics_wikilyrics(df):\n",
    "    \"\"\"\n",
    "    Scrape lyrics from WikiLyrics for all tracks in dataframe\n",
    "    \n",
    "    Parameters\n",
    "    -----\n",
    "    df: dataframe containing all songs\n",
    "    \n",
    "    Returns\n",
    "    -----\n",
    "    dataframe with lyrics column\n",
    "    \"\"\"\n",
    "    search_queries = list(zip(list(df['artist']),list(df['title'])))\n",
    "    \n",
    "    print(f'Scraping lyrics for {len(search_queries)} tracks.')\n",
    "    \n",
    "    pool = Pool(50)\n",
    "    if __name__ == '__main__':   \n",
    "        lyrics = list(tqdm(pool.imap(query_wikilyrics, search_queries), total = len(search_queries)))\n",
    "    pool.terminate()\n",
    "    pool.join()\n",
    "    \n",
    "    df['lyrics'] = lyrics\n",
    "    \n",
    "    print(f'Finished. Unable to scrape lyrics for {df.lyrics.isnull().sum()} songs')\n",
    "\n",
    "    return df  "
   ]
  },
  {
   "cell_type": "markdown",
   "metadata": {},
   "source": [
    "#### Scrape lyrics - this will take a few minutes:"
   ]
  },
  {
   "cell_type": "code",
   "execution_count": 8,
   "metadata": {},
   "outputs": [
    {
     "name": "stdout",
     "output_type": "stream",
     "text": [
      "Scraping lyrics for 12375 tracks.\n"
     ]
    },
    {
     "name": "stderr",
     "output_type": "stream",
     "text": [
      "100%|██████████| 12375/12375 [04:35<00:00, 44.97it/s]\n"
     ]
    },
    {
     "name": "stdout",
     "output_type": "stream",
     "text": [
      "Finished. Unable to scrape lyrics for 4593 songs\n"
     ]
    }
   ],
   "source": [
    "tracks_df = pull_lyrics_wikilyrics(tracks_df)"
   ]
  },
  {
   "cell_type": "markdown",
   "metadata": {},
   "source": [
    "#### Clean WikiLyrics results - some lyrics were \"returned\" but can still represent instrumentals / licensed content. Convert these to None"
   ]
  },
  {
   "cell_type": "code",
   "execution_count": 9,
   "metadata": {},
   "outputs": [],
   "source": [
    "# Replace instrumentals with None\n",
    "\n",
    "mask = tracks_df['lyrics'].str.contains('span style',na = False)\n",
    "\n",
    "tracks_df.loc[mask, 'lyrics'] = None"
   ]
  },
  {
   "cell_type": "code",
   "execution_count": 10,
   "metadata": {},
   "outputs": [],
   "source": [
    "# Replace unlicensed lyrics with None\n",
    "\n",
    "mask = tracks_df['lyrics'].str.contains('unfortunately, we are not licensed',na = False)\n",
    "\n",
    "tracks_df.loc[mask, 'lyrics'] = None"
   ]
  },
  {
   "cell_type": "markdown",
   "metadata": {},
   "source": [
    "#### Separate songs with no WikiLyrics results:"
   ]
  },
  {
   "cell_type": "code",
   "execution_count": 11,
   "metadata": {},
   "outputs": [],
   "source": [
    "wikilyrics_df = tracks_df[tracks_df['lyrics'].notnull()]\n",
    "remaining_df = tracks_df[tracks_df['lyrics'].isnull()]\n",
    "remaining_df.drop(columns = 'lyrics',inplace = True)"
   ]
  },
  {
   "cell_type": "code",
   "execution_count": 12,
   "metadata": {},
   "outputs": [],
   "source": [
    "wikilyrics_df['source'] = 'wikilyrics'"
   ]
  },
  {
   "cell_type": "code",
   "execution_count": 13,
   "metadata": {},
   "outputs": [
    {
     "data": {
      "text/html": [
       "<div>\n",
       "<style scoped>\n",
       "    .dataframe tbody tr th:only-of-type {\n",
       "        vertical-align: middle;\n",
       "    }\n",
       "\n",
       "    .dataframe tbody tr th {\n",
       "        vertical-align: top;\n",
       "    }\n",
       "\n",
       "    .dataframe thead th {\n",
       "        text-align: right;\n",
       "    }\n",
       "</style>\n",
       "<table border=\"1\" class=\"dataframe\">\n",
       "  <thead>\n",
       "    <tr style=\"text-align: right;\">\n",
       "      <th></th>\n",
       "      <th>title</th>\n",
       "      <th>artist</th>\n",
       "      <th>weeks</th>\n",
       "      <th>week_count</th>\n",
       "      <th>lyrics</th>\n",
       "      <th>source</th>\n",
       "    </tr>\n",
       "  </thead>\n",
       "  <tbody>\n",
       "    <tr>\n",
       "      <th>1</th>\n",
       "      <td>\"You've Got\" The Touch</td>\n",
       "      <td>Alabama</td>\n",
       "      <td>1987-04-26,1987-04-19,1987-04-12,1987-04-05,19...</td>\n",
       "      <td>15</td>\n",
       "      <td>Lyin' beside you watching you sleepin'\\nAfter ...</td>\n",
       "      <td>wikilyrics</td>\n",
       "    </tr>\n",
       "    <tr>\n",
       "      <th>2</th>\n",
       "      <td>'57 Chevrolet</td>\n",
       "      <td>Billie Jo Spears</td>\n",
       "      <td>1978-10-15,1978-10-08,1978-10-01,1978-09-24,19...</td>\n",
       "      <td>9</td>\n",
       "      <td>Come and look at this old faded photograph\\nHo...</td>\n",
       "      <td>wikilyrics</td>\n",
       "    </tr>\n",
       "    <tr>\n",
       "      <th>4</th>\n",
       "      <td>'Fore She Was Mama</td>\n",
       "      <td>Clay Walker</td>\n",
       "      <td>2007-03-18,2007-03-11,2007-03-04,2007-02-25,20...</td>\n",
       "      <td>25</td>\n",
       "      <td>'Bout ten years old, hide and seek\\nI found me...</td>\n",
       "      <td>wikilyrics</td>\n",
       "    </tr>\n",
       "    <tr>\n",
       "      <th>6</th>\n",
       "      <td>'Round Here</td>\n",
       "      <td>Sawyer Brown</td>\n",
       "      <td>1996-02-25,1996-02-18,1996-02-11,1996-02-04,19...</td>\n",
       "      <td>12</td>\n",
       "      <td>Sue and Jack fell in love 'round here \\nThey b...</td>\n",
       "      <td>wikilyrics</td>\n",
       "    </tr>\n",
       "    <tr>\n",
       "      <th>10</th>\n",
       "      <td>'Til I Get It Right</td>\n",
       "      <td>Tammy Wynette</td>\n",
       "      <td>1973-04-01,1973-03-25,1973-03-18,1973-03-11,19...</td>\n",
       "      <td>13</td>\n",
       "      <td>I'll just keep on falling in love till I get i...</td>\n",
       "      <td>wikilyrics</td>\n",
       "    </tr>\n",
       "  </tbody>\n",
       "</table>\n",
       "</div>"
      ],
      "text/plain": [
       "                     title            artist  \\\n",
       "1   \"You've Got\" The Touch           Alabama   \n",
       "2            '57 Chevrolet  Billie Jo Spears   \n",
       "4       'Fore She Was Mama       Clay Walker   \n",
       "6              'Round Here      Sawyer Brown   \n",
       "10     'Til I Get It Right     Tammy Wynette   \n",
       "\n",
       "                                                weeks  week_count  \\\n",
       "1   1987-04-26,1987-04-19,1987-04-12,1987-04-05,19...          15   \n",
       "2   1978-10-15,1978-10-08,1978-10-01,1978-09-24,19...           9   \n",
       "4   2007-03-18,2007-03-11,2007-03-04,2007-02-25,20...          25   \n",
       "6   1996-02-25,1996-02-18,1996-02-11,1996-02-04,19...          12   \n",
       "10  1973-04-01,1973-03-25,1973-03-18,1973-03-11,19...          13   \n",
       "\n",
       "                                               lyrics      source  \n",
       "1   Lyin' beside you watching you sleepin'\\nAfter ...  wikilyrics  \n",
       "2   Come and look at this old faded photograph\\nHo...  wikilyrics  \n",
       "4   'Bout ten years old, hide and seek\\nI found me...  wikilyrics  \n",
       "6   Sue and Jack fell in love 'round here \\nThey b...  wikilyrics  \n",
       "10  I'll just keep on falling in love till I get i...  wikilyrics  "
      ]
     },
     "execution_count": 13,
     "metadata": {},
     "output_type": "execute_result"
    }
   ],
   "source": [
    "wikilyrics_df.head()"
   ]
  },
  {
   "cell_type": "markdown",
   "metadata": {},
   "source": [
    "<a id='1b3'></a>"
   ]
  },
  {
   "cell_type": "markdown",
   "metadata": {},
   "source": [
    "### __1b3. Scrape remaining lyrics from Genius API (second run)__"
   ]
  },
  {
   "cell_type": "code",
   "execution_count": 14,
   "metadata": {},
   "outputs": [],
   "source": [
    "def generate_search_query(df):\n",
    "    '''\n",
    "    Transforms track name and artist into a concatenated format which can be queried in Genius API.\n",
    "    \n",
    "    Parameters\n",
    "    -----\n",
    "    dataframe: dataframe of tracks with track_name and track_artist columns    \n",
    "    \n",
    "    Returns\n",
    "    -----\n",
    "    dataframe: Updated dataframe with a new column of URLs which are ready to be scraped for lyrics. \n",
    "    '''\n",
    "    track_names = [re.sub(r' \\(.*\\)','',item) for item in list(df['title'])]\n",
    "    track_artists = list(df['artist'])\n",
    "    \n",
    "    queries = [[f'{track} {artist}',artist] for track,artist in zip(track_names,track_artists)]\n",
    "    return queries"
   ]
  },
  {
   "cell_type": "code",
   "execution_count": 15,
   "metadata": {},
   "outputs": [],
   "source": [
    "def pull_url_lyrics(genius_url):\n",
    "    '''\n",
    "    Pulls lyrics from a single Genius URL using beautifulsoup\n",
    "    \n",
    "    Parameters\n",
    "    ------\n",
    "    genius_url: url that will be scraped for lyrics\n",
    "    \n",
    "    Returns\n",
    "    -----\n",
    "    str: lyrics in string format\n",
    "    '''\n",
    "    try:\n",
    "        response = requests.get(genius_url,timeout = 5)\n",
    "    except requests.exceptions.SSLError:\n",
    "        pass\n",
    "    except requests.exceptions.ConnectionError:\n",
    "        time.sleep(5)\n",
    "        response = requests.get(genius_url,timeout = 5)\n",
    "\n",
    "    html = BeautifulSoup(response.text,features = 'html.parser')\n",
    "    try:\n",
    "        lyrics = html.find(\"div\",class_='lyrics').get_text()\n",
    "        return lyrics\n",
    "    except AttributeError:\n",
    "        return None"
   ]
  },
  {
   "cell_type": "code",
   "execution_count": 16,
   "metadata": {},
   "outputs": [],
   "source": [
    "def search_genius_url(track_query):\n",
    "    '''\n",
    "    Searches for the song's Genius URL in the Genius API. \n",
    "\n",
    "    Parameters\n",
    "    -----\n",
    "    track_query: query of track name and artist\n",
    "    \n",
    "    Returns\n",
    "    -----\n",
    "    str: URL for respective song which can then be scraped for lyrics.\n",
    "    '''\n",
    "    artist = track_query[1]\n",
    "    track_query = track_query[0]\n",
    "    headers = {'Authorization': f'Bearer {genius_token}'}\n",
    "    params = {'q':track_query}\n",
    "    response = requests.get('https://api.genius.com/search',params = params,headers = headers,timeout = 5)\n",
    "    if len(response.json()['response']['hits']) > 0:\n",
    "        url = response.json()['response']['hits'][0]['result']['url']\n",
    "        genius_artist = response.json()['response']['hits'][0]['result']['primary_artist']['name']\n",
    "        if artist == genius_artist:\n",
    "            return pull_url_lyrics(url)\n",
    "        else:\n",
    "            return None\n",
    "    else:\n",
    "        return None\n",
    "    "
   ]
  },
  {
   "cell_type": "code",
   "execution_count": 17,
   "metadata": {},
   "outputs": [],
   "source": [
    "def pull_lyrics_genius(df):\n",
    "    search_queries = generate_search_query(df)\n",
    "    \n",
    "    print(f'Scraping lyrics for {len(search_queries)} tracks.')\n",
    "    \n",
    "    pool = Pool(50)\n",
    "    if __name__ == '__main__':   \n",
    "        lyrics = list(tqdm(pool.imap(search_genius_url, search_queries), total = len(search_queries)))  \n",
    "    pool.terminate()  \n",
    "    pool.join()  \n",
    "\n",
    "    print(f'Finished')\n",
    "    \n",
    "    df['lyrics'] = lyrics\n",
    "    \n",
    "    return df  "
   ]
  },
  {
   "cell_type": "markdown",
   "metadata": {},
   "source": [
    "#### Scrape lyrics from Genius - this will take a few minutes"
   ]
  },
  {
   "cell_type": "code",
   "execution_count": 18,
   "metadata": {},
   "outputs": [
    {
     "name": "stdout",
     "output_type": "stream",
     "text": [
      "Scraping lyrics for 4598 tracks.\n"
     ]
    },
    {
     "name": "stderr",
     "output_type": "stream",
     "text": [
      "100%|██████████| 4598/4598 [00:56<00:00, 81.63it/s]"
     ]
    },
    {
     "name": "stdout",
     "output_type": "stream",
     "text": [
      "Finished\n"
     ]
    },
    {
     "name": "stderr",
     "output_type": "stream",
     "text": [
      "\n"
     ]
    }
   ],
   "source": [
    "remaining_df = pull_lyrics_genius(remaining_df)"
   ]
  },
  {
   "cell_type": "markdown",
   "metadata": {},
   "source": [
    "#### Separate Genius results:"
   ]
  },
  {
   "cell_type": "code",
   "execution_count": 19,
   "metadata": {},
   "outputs": [],
   "source": [
    "genius_df = remaining_df[remaining_df['lyrics'].notnull()]"
   ]
  },
  {
   "cell_type": "code",
   "execution_count": 20,
   "metadata": {},
   "outputs": [],
   "source": [
    "genius_df['source'] = 'genius'"
   ]
  },
  {
   "cell_type": "code",
   "execution_count": 21,
   "metadata": {},
   "outputs": [],
   "source": [
    "# Track with no results from either source\n",
    "\n",
    "remaining_df = remaining_df[remaining_df['lyrics'].isnull()]"
   ]
  },
  {
   "cell_type": "markdown",
   "metadata": {},
   "source": [
    "<a id='1b4'></a>"
   ]
  },
  {
   "cell_type": "markdown",
   "metadata": {},
   "source": [
    "### __1b4. Merge / Prepare data for Preprocessing__"
   ]
  },
  {
   "cell_type": "code",
   "execution_count": 22,
   "metadata": {},
   "outputs": [
    {
     "name": "stdout",
     "output_type": "stream",
     "text": [
      "(7777, 6)\n"
     ]
    },
    {
     "data": {
      "text/html": [
       "<div>\n",
       "<style scoped>\n",
       "    .dataframe tbody tr th:only-of-type {\n",
       "        vertical-align: middle;\n",
       "    }\n",
       "\n",
       "    .dataframe tbody tr th {\n",
       "        vertical-align: top;\n",
       "    }\n",
       "\n",
       "    .dataframe thead th {\n",
       "        text-align: right;\n",
       "    }\n",
       "</style>\n",
       "<table border=\"1\" class=\"dataframe\">\n",
       "  <thead>\n",
       "    <tr style=\"text-align: right;\">\n",
       "      <th></th>\n",
       "      <th>title</th>\n",
       "      <th>artist</th>\n",
       "      <th>weeks</th>\n",
       "      <th>week_count</th>\n",
       "      <th>lyrics</th>\n",
       "      <th>source</th>\n",
       "    </tr>\n",
       "  </thead>\n",
       "  <tbody>\n",
       "    <tr>\n",
       "      <th>1</th>\n",
       "      <td>\"You've Got\" The Touch</td>\n",
       "      <td>Alabama</td>\n",
       "      <td>1987-04-26,1987-04-19,1987-04-12,1987-04-05,19...</td>\n",
       "      <td>15</td>\n",
       "      <td>Lyin' beside you watching you sleepin'\\nAfter ...</td>\n",
       "      <td>wikilyrics</td>\n",
       "    </tr>\n",
       "    <tr>\n",
       "      <th>2</th>\n",
       "      <td>'57 Chevrolet</td>\n",
       "      <td>Billie Jo Spears</td>\n",
       "      <td>1978-10-15,1978-10-08,1978-10-01,1978-09-24,19...</td>\n",
       "      <td>9</td>\n",
       "      <td>Come and look at this old faded photograph\\nHo...</td>\n",
       "      <td>wikilyrics</td>\n",
       "    </tr>\n",
       "    <tr>\n",
       "      <th>4</th>\n",
       "      <td>'Fore She Was Mama</td>\n",
       "      <td>Clay Walker</td>\n",
       "      <td>2007-03-18,2007-03-11,2007-03-04,2007-02-25,20...</td>\n",
       "      <td>25</td>\n",
       "      <td>'Bout ten years old, hide and seek\\nI found me...</td>\n",
       "      <td>wikilyrics</td>\n",
       "    </tr>\n",
       "    <tr>\n",
       "      <th>6</th>\n",
       "      <td>'Round Here</td>\n",
       "      <td>Sawyer Brown</td>\n",
       "      <td>1996-02-25,1996-02-18,1996-02-11,1996-02-04,19...</td>\n",
       "      <td>12</td>\n",
       "      <td>Sue and Jack fell in love 'round here \\nThey b...</td>\n",
       "      <td>wikilyrics</td>\n",
       "    </tr>\n",
       "    <tr>\n",
       "      <th>10</th>\n",
       "      <td>'Til I Get It Right</td>\n",
       "      <td>Tammy Wynette</td>\n",
       "      <td>1973-04-01,1973-03-25,1973-03-18,1973-03-11,19...</td>\n",
       "      <td>13</td>\n",
       "      <td>I'll just keep on falling in love till I get i...</td>\n",
       "      <td>wikilyrics</td>\n",
       "    </tr>\n",
       "  </tbody>\n",
       "</table>\n",
       "</div>"
      ],
      "text/plain": [
       "                     title            artist  \\\n",
       "1   \"You've Got\" The Touch           Alabama   \n",
       "2            '57 Chevrolet  Billie Jo Spears   \n",
       "4       'Fore She Was Mama       Clay Walker   \n",
       "6              'Round Here      Sawyer Brown   \n",
       "10     'Til I Get It Right     Tammy Wynette   \n",
       "\n",
       "                                                weeks  week_count  \\\n",
       "1   1987-04-26,1987-04-19,1987-04-12,1987-04-05,19...          15   \n",
       "2   1978-10-15,1978-10-08,1978-10-01,1978-09-24,19...           9   \n",
       "4   2007-03-18,2007-03-11,2007-03-04,2007-02-25,20...          25   \n",
       "6   1996-02-25,1996-02-18,1996-02-11,1996-02-04,19...          12   \n",
       "10  1973-04-01,1973-03-25,1973-03-18,1973-03-11,19...          13   \n",
       "\n",
       "                                               lyrics      source  \n",
       "1   Lyin' beside you watching you sleepin'\\nAfter ...  wikilyrics  \n",
       "2   Come and look at this old faded photograph\\nHo...  wikilyrics  \n",
       "4   'Bout ten years old, hide and seek\\nI found me...  wikilyrics  \n",
       "6   Sue and Jack fell in love 'round here \\nThey b...  wikilyrics  \n",
       "10  I'll just keep on falling in love till I get i...  wikilyrics  "
      ]
     },
     "execution_count": 22,
     "metadata": {},
     "output_type": "execute_result"
    }
   ],
   "source": [
    "# Results from wikilyrics scrape\n",
    "\n",
    "print(wikilyrics_df.shape)\n",
    "wikilyrics_df.head()"
   ]
  },
  {
   "cell_type": "code",
   "execution_count": 23,
   "metadata": {},
   "outputs": [
    {
     "name": "stdout",
     "output_type": "stream",
     "text": [
      "(938, 6)\n"
     ]
    },
    {
     "data": {
      "text/html": [
       "<div>\n",
       "<style scoped>\n",
       "    .dataframe tbody tr th:only-of-type {\n",
       "        vertical-align: middle;\n",
       "    }\n",
       "\n",
       "    .dataframe tbody tr th {\n",
       "        vertical-align: top;\n",
       "    }\n",
       "\n",
       "    .dataframe thead th {\n",
       "        text-align: right;\n",
       "    }\n",
       "</style>\n",
       "<table border=\"1\" class=\"dataframe\">\n",
       "  <thead>\n",
       "    <tr style=\"text-align: right;\">\n",
       "      <th></th>\n",
       "      <th>title</th>\n",
       "      <th>artist</th>\n",
       "      <th>weeks</th>\n",
       "      <th>week_count</th>\n",
       "      <th>lyrics</th>\n",
       "      <th>source</th>\n",
       "    </tr>\n",
       "  </thead>\n",
       "  <tbody>\n",
       "    <tr>\n",
       "      <th>3</th>\n",
       "      <td>'Cause I Have You</td>\n",
       "      <td>Wynn Stewart</td>\n",
       "      <td>1967-10-22,1967-10-15,1967-10-08,1967-10-01,19...</td>\n",
       "      <td>14</td>\n",
       "      <td>\\n\\nA flower needs the earth to make it grow\\n...</td>\n",
       "      <td>genius</td>\n",
       "    </tr>\n",
       "    <tr>\n",
       "      <th>16</th>\n",
       "      <td>'round The World With Rubber Duck</td>\n",
       "      <td>C.W. McCall</td>\n",
       "      <td>1977-01-23,1977-01-16,1977-01-09</td>\n",
       "      <td>3</td>\n",
       "      <td>\\n\\n[On the CB.]\\nBreaker, one-nine, this here...</td>\n",
       "      <td>genius</td>\n",
       "    </tr>\n",
       "    <tr>\n",
       "      <th>17</th>\n",
       "      <td>'til I Can Make It On My Own</td>\n",
       "      <td>Tammy Wynette</td>\n",
       "      <td>1976-05-09,1976-05-02,1976-04-25,1976-04-18,19...</td>\n",
       "      <td>12</td>\n",
       "      <td>\\n\\nI'll need time to get you off my mind\\nAnd...</td>\n",
       "      <td>genius</td>\n",
       "    </tr>\n",
       "    <tr>\n",
       "      <th>18</th>\n",
       "      <td>'til I Gain Control Again</td>\n",
       "      <td>Crystal Gayle</td>\n",
       "      <td>1983-03-06,1983-02-27,1983-02-20,1983-02-13,19...</td>\n",
       "      <td>14</td>\n",
       "      <td>\\n\\nJust like the sun over the mountain top\\nY...</td>\n",
       "      <td>genius</td>\n",
       "    </tr>\n",
       "    <tr>\n",
       "      <th>26</th>\n",
       "      <td>(Don't Let The Sun Set On You) Tulsa</td>\n",
       "      <td>Waylon Jennings</td>\n",
       "      <td>1971-02-14,1971-02-07,1971-01-31,1971-01-24,19...</td>\n",
       "      <td>11</td>\n",
       "      <td>\\n\\n[Verse 1]\\nWhen I left Tulsa, Jamie was an...</td>\n",
       "      <td>genius</td>\n",
       "    </tr>\n",
       "  </tbody>\n",
       "</table>\n",
       "</div>"
      ],
      "text/plain": [
       "                                   title           artist  \\\n",
       "3                      'Cause I Have You     Wynn Stewart   \n",
       "16     'round The World With Rubber Duck      C.W. McCall   \n",
       "17          'til I Can Make It On My Own    Tammy Wynette   \n",
       "18             'til I Gain Control Again    Crystal Gayle   \n",
       "26  (Don't Let The Sun Set On You) Tulsa  Waylon Jennings   \n",
       "\n",
       "                                                weeks  week_count  \\\n",
       "3   1967-10-22,1967-10-15,1967-10-08,1967-10-01,19...          14   \n",
       "16                   1977-01-23,1977-01-16,1977-01-09           3   \n",
       "17  1976-05-09,1976-05-02,1976-04-25,1976-04-18,19...          12   \n",
       "18  1983-03-06,1983-02-27,1983-02-20,1983-02-13,19...          14   \n",
       "26  1971-02-14,1971-02-07,1971-01-31,1971-01-24,19...          11   \n",
       "\n",
       "                                               lyrics  source  \n",
       "3   \\n\\nA flower needs the earth to make it grow\\n...  genius  \n",
       "16  \\n\\n[On the CB.]\\nBreaker, one-nine, this here...  genius  \n",
       "17  \\n\\nI'll need time to get you off my mind\\nAnd...  genius  \n",
       "18  \\n\\nJust like the sun over the mountain top\\nY...  genius  \n",
       "26  \\n\\n[Verse 1]\\nWhen I left Tulsa, Jamie was an...  genius  "
      ]
     },
     "execution_count": 23,
     "metadata": {},
     "output_type": "execute_result"
    }
   ],
   "source": [
    "# Results from Genius scrape\n",
    "\n",
    "print(genius_df.shape)\n",
    "genius_df.head()"
   ]
  },
  {
   "cell_type": "code",
   "execution_count": 24,
   "metadata": {},
   "outputs": [],
   "source": [
    "# Merge WikiLyrics and Genius results\n",
    "\n",
    "lyrics_merged_df = pd.concat([wikilyrics_df,genius_df,remaining_df]).sort_index()"
   ]
  },
  {
   "cell_type": "code",
   "execution_count": 25,
   "metadata": {},
   "outputs": [
    {
     "data": {
      "text/html": [
       "<div>\n",
       "<style scoped>\n",
       "    .dataframe tbody tr th:only-of-type {\n",
       "        vertical-align: middle;\n",
       "    }\n",
       "\n",
       "    .dataframe tbody tr th {\n",
       "        vertical-align: top;\n",
       "    }\n",
       "\n",
       "    .dataframe thead th {\n",
       "        text-align: right;\n",
       "    }\n",
       "</style>\n",
       "<table border=\"1\" class=\"dataframe\">\n",
       "  <thead>\n",
       "    <tr style=\"text-align: right;\">\n",
       "      <th></th>\n",
       "      <th>artist</th>\n",
       "      <th>lyrics</th>\n",
       "      <th>source</th>\n",
       "      <th>title</th>\n",
       "      <th>week_count</th>\n",
       "      <th>weeks</th>\n",
       "    </tr>\n",
       "  </thead>\n",
       "  <tbody>\n",
       "    <tr>\n",
       "      <th>0</th>\n",
       "      <td>Stonewall Jackson</td>\n",
       "      <td>None</td>\n",
       "      <td>NaN</td>\n",
       "      <td>\"Never More\" Quote The Raven</td>\n",
       "      <td>7</td>\n",
       "      <td>1969-08-03,1969-07-27,1969-07-20,1969-07-13,19...</td>\n",
       "    </tr>\n",
       "    <tr>\n",
       "      <th>1</th>\n",
       "      <td>Alabama</td>\n",
       "      <td>Lyin' beside you watching you sleepin'\\nAfter ...</td>\n",
       "      <td>wikilyrics</td>\n",
       "      <td>\"You've Got\" The Touch</td>\n",
       "      <td>15</td>\n",
       "      <td>1987-04-26,1987-04-19,1987-04-12,1987-04-05,19...</td>\n",
       "    </tr>\n",
       "    <tr>\n",
       "      <th>2</th>\n",
       "      <td>Billie Jo Spears</td>\n",
       "      <td>Come and look at this old faded photograph\\nHo...</td>\n",
       "      <td>wikilyrics</td>\n",
       "      <td>'57 Chevrolet</td>\n",
       "      <td>9</td>\n",
       "      <td>1978-10-15,1978-10-08,1978-10-01,1978-09-24,19...</td>\n",
       "    </tr>\n",
       "    <tr>\n",
       "      <th>3</th>\n",
       "      <td>Wynn Stewart</td>\n",
       "      <td>\\n\\nA flower needs the earth to make it grow\\n...</td>\n",
       "      <td>genius</td>\n",
       "      <td>'Cause I Have You</td>\n",
       "      <td>14</td>\n",
       "      <td>1967-10-22,1967-10-15,1967-10-08,1967-10-01,19...</td>\n",
       "    </tr>\n",
       "    <tr>\n",
       "      <th>4</th>\n",
       "      <td>Clay Walker</td>\n",
       "      <td>'Bout ten years old, hide and seek\\nI found me...</td>\n",
       "      <td>wikilyrics</td>\n",
       "      <td>'Fore She Was Mama</td>\n",
       "      <td>25</td>\n",
       "      <td>2007-03-18,2007-03-11,2007-03-04,2007-02-25,20...</td>\n",
       "    </tr>\n",
       "    <tr>\n",
       "      <th>5</th>\n",
       "      <td>Lefty Frizzell</td>\n",
       "      <td>None</td>\n",
       "      <td>NaN</td>\n",
       "      <td>'Gator Hollow</td>\n",
       "      <td>2</td>\n",
       "      <td>1965-01-17,1965-01-10</td>\n",
       "    </tr>\n",
       "    <tr>\n",
       "      <th>6</th>\n",
       "      <td>Sawyer Brown</td>\n",
       "      <td>Sue and Jack fell in love 'round here \\nThey b...</td>\n",
       "      <td>wikilyrics</td>\n",
       "      <td>'Round Here</td>\n",
       "      <td>12</td>\n",
       "      <td>1996-02-25,1996-02-18,1996-02-11,1996-02-04,19...</td>\n",
       "    </tr>\n",
       "    <tr>\n",
       "      <th>7</th>\n",
       "      <td>Dick Curless</td>\n",
       "      <td>None</td>\n",
       "      <td>NaN</td>\n",
       "      <td>'Tater Raisin' Man</td>\n",
       "      <td>3</td>\n",
       "      <td>1965-11-14,1965-11-07,1965-10-31</td>\n",
       "    </tr>\n",
       "    <tr>\n",
       "      <th>8</th>\n",
       "      <td>Keith Whitley &amp; Lorrie Morgan</td>\n",
       "      <td>None</td>\n",
       "      <td>NaN</td>\n",
       "      <td>'Til A Tear Becomes A Rose</td>\n",
       "      <td>16</td>\n",
       "      <td>1990-11-11,1990-11-04,1990-10-28,1990-10-21,19...</td>\n",
       "    </tr>\n",
       "    <tr>\n",
       "      <th>9</th>\n",
       "      <td>Leon Everette</td>\n",
       "      <td>None</td>\n",
       "      <td>NaN</td>\n",
       "      <td>'Til A Tear Becomes A Rose</td>\n",
       "      <td>3</td>\n",
       "      <td>1985-11-10,1985-11-03,1985-10-27</td>\n",
       "    </tr>\n",
       "  </tbody>\n",
       "</table>\n",
       "</div>"
      ],
      "text/plain": [
       "                          artist  \\\n",
       "0              Stonewall Jackson   \n",
       "1                        Alabama   \n",
       "2               Billie Jo Spears   \n",
       "3                   Wynn Stewart   \n",
       "4                    Clay Walker   \n",
       "5                 Lefty Frizzell   \n",
       "6                   Sawyer Brown   \n",
       "7                   Dick Curless   \n",
       "8  Keith Whitley & Lorrie Morgan   \n",
       "9                  Leon Everette   \n",
       "\n",
       "                                              lyrics      source  \\\n",
       "0                                               None         NaN   \n",
       "1  Lyin' beside you watching you sleepin'\\nAfter ...  wikilyrics   \n",
       "2  Come and look at this old faded photograph\\nHo...  wikilyrics   \n",
       "3  \\n\\nA flower needs the earth to make it grow\\n...      genius   \n",
       "4  'Bout ten years old, hide and seek\\nI found me...  wikilyrics   \n",
       "5                                               None         NaN   \n",
       "6  Sue and Jack fell in love 'round here \\nThey b...  wikilyrics   \n",
       "7                                               None         NaN   \n",
       "8                                               None         NaN   \n",
       "9                                               None         NaN   \n",
       "\n",
       "                          title  week_count  \\\n",
       "0  \"Never More\" Quote The Raven           7   \n",
       "1        \"You've Got\" The Touch          15   \n",
       "2                 '57 Chevrolet           9   \n",
       "3             'Cause I Have You          14   \n",
       "4            'Fore She Was Mama          25   \n",
       "5                 'Gator Hollow           2   \n",
       "6                   'Round Here          12   \n",
       "7            'Tater Raisin' Man           3   \n",
       "8    'Til A Tear Becomes A Rose          16   \n",
       "9    'Til A Tear Becomes A Rose           3   \n",
       "\n",
       "                                               weeks  \n",
       "0  1969-08-03,1969-07-27,1969-07-20,1969-07-13,19...  \n",
       "1  1987-04-26,1987-04-19,1987-04-12,1987-04-05,19...  \n",
       "2  1978-10-15,1978-10-08,1978-10-01,1978-09-24,19...  \n",
       "3  1967-10-22,1967-10-15,1967-10-08,1967-10-01,19...  \n",
       "4  2007-03-18,2007-03-11,2007-03-04,2007-02-25,20...  \n",
       "5                              1965-01-17,1965-01-10  \n",
       "6  1996-02-25,1996-02-18,1996-02-11,1996-02-04,19...  \n",
       "7                   1965-11-14,1965-11-07,1965-10-31  \n",
       "8  1990-11-11,1990-11-04,1990-10-28,1990-10-21,19...  \n",
       "9                   1985-11-10,1985-11-03,1985-10-27  "
      ]
     },
     "execution_count": 25,
     "metadata": {},
     "output_type": "execute_result"
    }
   ],
   "source": [
    "lyrics_merged_df.head(10)"
   ]
  },
  {
   "cell_type": "code",
   "execution_count": 26,
   "metadata": {},
   "outputs": [],
   "source": [
    "# Save results\n",
    "\n",
    "lyrics_merged_df.to_pickle(data_dir + 'lyrics_merged_df.pkl')"
   ]
  }
 ],
 "metadata": {
  "kernelspec": {
   "display_name": "Python 3",
   "language": "python",
   "name": "python3"
  },
  "language_info": {
   "codemirror_mode": {
    "name": "ipython",
    "version": 3
   },
   "file_extension": ".py",
   "mimetype": "text/x-python",
   "name": "python",
   "nbconvert_exporter": "python",
   "pygments_lexer": "ipython3",
   "version": "3.6.8"
  }
 },
 "nbformat": 4,
 "nbformat_minor": 2
}
