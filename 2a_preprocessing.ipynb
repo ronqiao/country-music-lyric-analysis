{
 "cells": [
  {
   "cell_type": "markdown",
   "metadata": {},
   "source": [
    "# __Country Music Lyric Analysis__\n",
    "#### Analyzing song lyrics with natural language processing and Non-negative Matrix Factorization (NMF) / Correlation Explanation (CorEx) topic models  \n",
    "<hr>  \n",
    "This project explores Country music as a genre by extracting and analyzing lyrics from songs posted on Billboard's weekly hot 50 charts. Topic modeling, though not an exhaustive approach, proves useful in exploring music genres by allowing users to discover previously hidden themes and motifs in song lyrics. Introducing a time series element to the dataset also allows users to visualize trends in topic distributions over several decades.     \n",
    "\n",
    "In this case, the models and visualizations demonstrate how country music can in fact, be quite relatable; namely, that its lyrics represent a lot more than just beer, trucks, and women (themes commonly present in modern day bro-country). Applying CorEx / word anchors in a semi-supervised learning manner also reveals some more interesting, esoteric topics in Country music.  \n",
    "\n",
    "The project can be broken down into the following steps:  \n",
    "\n",
    "#### 1. Data Acquisition  \n",
    "\\- 1a. Scrape Billboard chart archives and populate corpus of country songs  \n",
    "\\- 1b. Scrape lyrics for each song from WikiLyrics and Genius APIs\n",
    "#### ***2. Preprocessing - Lyrics / Data***  \n",
    "\\- ***2a. Use natural language processing and other methods to process text lyrics and data. Introduce some EDA and basic feature engineering***    \n",
    "#### 3. Topic Models / Lyric Analysis   \n",
    "\\- 3a. Apply non-negative matrix factorzation and CorEx to model topics and then analyze the results  \n",
    "\n"
   ]
  },
  {
   "cell_type": "markdown",
   "metadata": {},
   "source": [
    "# __2a. Preprocessing - Lyrics/Data__\n",
    "\n",
    "### __Sections__  \n",
    "\n",
    "[2a1. Load / Parse Data](#2a1)  \n",
    "[2a2. Exploratory Data Analysis](#2a2)  \n",
    "[2a3. Process Song Lyrics](#2b3)  \n"
   ]
  },
  {
   "cell_type": "code",
   "execution_count": 1,
   "metadata": {},
   "outputs": [],
   "source": [
    "import numpy as np\n",
    "import pandas as pd\n",
    "import os\n",
    "import warnings\n",
    "\n",
    "from scipy import stats\n",
    "import scipy.sparse as ss\n",
    "\n",
    "import nltk\n",
    "from nltk.sentiment import SentimentAnalyzer\n",
    "from nltk import word_tokenize, sent_tokenize, WordNetLemmatizer, ngrams\n",
    "from nltk.tokenize import TweetTokenizer\n",
    "from nltk.corpus import stopwords\n",
    "\n",
    "import matplotlib.pyplot as plt\n",
    "import seaborn as sns\n",
    "\n",
    "from rq_config import project_4_path\n",
    "\n",
    "%matplotlib inline\n",
    "warnings.filterwarnings('ignore')"
   ]
  },
  {
   "cell_type": "code",
   "execution_count": 2,
   "metadata": {},
   "outputs": [],
   "source": [
    "data_dir = os.path.join(project_4_path,'data/')"
   ]
  },
  {
   "cell_type": "markdown",
   "metadata": {},
   "source": [
    "<a id='2a1'></a>"
   ]
  },
  {
   "cell_type": "markdown",
   "metadata": {},
   "source": [
    "### __2a1. Load / Parse Data__"
   ]
  },
  {
   "cell_type": "code",
   "execution_count": 3,
   "metadata": {},
   "outputs": [],
   "source": [
    "# Load all country tracks\n",
    "\n",
    "tracks_df = pd.read_pickle(data_dir + 'lyrics_merged_df.pkl')"
   ]
  },
  {
   "cell_type": "code",
   "execution_count": 4,
   "metadata": {},
   "outputs": [
    {
     "data": {
      "text/html": [
       "<div>\n",
       "<style scoped>\n",
       "    .dataframe tbody tr th:only-of-type {\n",
       "        vertical-align: middle;\n",
       "    }\n",
       "\n",
       "    .dataframe tbody tr th {\n",
       "        vertical-align: top;\n",
       "    }\n",
       "\n",
       "    .dataframe thead th {\n",
       "        text-align: right;\n",
       "    }\n",
       "</style>\n",
       "<table border=\"1\" class=\"dataframe\">\n",
       "  <thead>\n",
       "    <tr style=\"text-align: right;\">\n",
       "      <th></th>\n",
       "      <th>artist</th>\n",
       "      <th>lyrics</th>\n",
       "      <th>source</th>\n",
       "      <th>title</th>\n",
       "      <th>week_count</th>\n",
       "      <th>weeks</th>\n",
       "    </tr>\n",
       "  </thead>\n",
       "  <tbody>\n",
       "    <tr>\n",
       "      <th>0</th>\n",
       "      <td>Stonewall Jackson</td>\n",
       "      <td>None</td>\n",
       "      <td>NaN</td>\n",
       "      <td>\"Never More\" Quote The Raven</td>\n",
       "      <td>7</td>\n",
       "      <td>1969-08-03,1969-07-27,1969-07-20,1969-07-13,19...</td>\n",
       "    </tr>\n",
       "    <tr>\n",
       "      <th>1</th>\n",
       "      <td>Alabama</td>\n",
       "      <td>Lyin' beside you watching you sleepin'\\nAfter ...</td>\n",
       "      <td>wikilyrics</td>\n",
       "      <td>\"You've Got\" The Touch</td>\n",
       "      <td>15</td>\n",
       "      <td>1987-04-26,1987-04-19,1987-04-12,1987-04-05,19...</td>\n",
       "    </tr>\n",
       "    <tr>\n",
       "      <th>2</th>\n",
       "      <td>Billie Jo Spears</td>\n",
       "      <td>Come and look at this old faded photograph\\nHo...</td>\n",
       "      <td>wikilyrics</td>\n",
       "      <td>'57 Chevrolet</td>\n",
       "      <td>9</td>\n",
       "      <td>1978-10-15,1978-10-08,1978-10-01,1978-09-24,19...</td>\n",
       "    </tr>\n",
       "    <tr>\n",
       "      <th>3</th>\n",
       "      <td>Wynn Stewart</td>\n",
       "      <td>\\n\\nA flower needs the earth to make it grow\\n...</td>\n",
       "      <td>genius</td>\n",
       "      <td>'Cause I Have You</td>\n",
       "      <td>14</td>\n",
       "      <td>1967-10-22,1967-10-15,1967-10-08,1967-10-01,19...</td>\n",
       "    </tr>\n",
       "    <tr>\n",
       "      <th>4</th>\n",
       "      <td>Clay Walker</td>\n",
       "      <td>'Bout ten years old, hide and seek\\nI found me...</td>\n",
       "      <td>wikilyrics</td>\n",
       "      <td>'Fore She Was Mama</td>\n",
       "      <td>25</td>\n",
       "      <td>2007-03-18,2007-03-11,2007-03-04,2007-02-25,20...</td>\n",
       "    </tr>\n",
       "  </tbody>\n",
       "</table>\n",
       "</div>"
      ],
      "text/plain": [
       "              artist                                             lyrics  \\\n",
       "0  Stonewall Jackson                                               None   \n",
       "1            Alabama  Lyin' beside you watching you sleepin'\\nAfter ...   \n",
       "2   Billie Jo Spears  Come and look at this old faded photograph\\nHo...   \n",
       "3       Wynn Stewart  \\n\\nA flower needs the earth to make it grow\\n...   \n",
       "4        Clay Walker  'Bout ten years old, hide and seek\\nI found me...   \n",
       "\n",
       "       source                         title  week_count  \\\n",
       "0         NaN  \"Never More\" Quote The Raven           7   \n",
       "1  wikilyrics        \"You've Got\" The Touch          15   \n",
       "2  wikilyrics                 '57 Chevrolet           9   \n",
       "3      genius             'Cause I Have You          14   \n",
       "4  wikilyrics            'Fore She Was Mama          25   \n",
       "\n",
       "                                               weeks  \n",
       "0  1969-08-03,1969-07-27,1969-07-20,1969-07-13,19...  \n",
       "1  1987-04-26,1987-04-19,1987-04-12,1987-04-05,19...  \n",
       "2  1978-10-15,1978-10-08,1978-10-01,1978-09-24,19...  \n",
       "3  1967-10-22,1967-10-15,1967-10-08,1967-10-01,19...  \n",
       "4  2007-03-18,2007-03-11,2007-03-04,2007-02-25,20...  "
      ]
     },
     "execution_count": 4,
     "metadata": {},
     "output_type": "execute_result"
    }
   ],
   "source": [
    "tracks_df.head()"
   ]
  },
  {
   "cell_type": "code",
   "execution_count": 5,
   "metadata": {},
   "outputs": [
    {
     "name": "stdout",
     "output_type": "stream",
     "text": [
      "Total Songs scraped from Billboard: 12375\n",
      "with lyrics: 8715\n",
      "without lyrics: 3660\n"
     ]
    }
   ],
   "source": [
    "lyrics_count = tracks_df[tracks_df['lyrics'].notnull()].shape[0]\n",
    "null_count = tracks_df[tracks_df['lyrics'].isnull()].shape[0]\n",
    "\n",
    "print(f'Total Songs scraped from Billboard: {tracks_df.shape[0]}')\n",
    "print(f'with lyrics: {lyrics_count}')\n",
    "print(f'without lyrics: {null_count}')"
   ]
  },
  {
   "cell_type": "markdown",
   "metadata": {},
   "source": [
    "#### Separate all null tracks without lyrics:"
   ]
  },
  {
   "cell_type": "code",
   "execution_count": 6,
   "metadata": {},
   "outputs": [],
   "source": [
    "# Separate tracks that couldn't pull lyrics\n",
    "\n",
    "nulls_df = tracks_df[tracks_df.isnull().any(axis = 1)].copy()\n",
    "\n",
    "# Drop null tracks, reset index\n",
    "\n",
    "lyrics_df = tracks_df.dropna().reset_index(drop = True)"
   ]
  },
  {
   "cell_type": "markdown",
   "metadata": {},
   "source": [
    "<a id='2a2'></a>"
   ]
  },
  {
   "cell_type": "markdown",
   "metadata": {},
   "source": [
    "### __2b2. Exploratory Data Analysis__"
   ]
  },
  {
   "cell_type": "code",
   "execution_count": 7,
   "metadata": {},
   "outputs": [],
   "source": [
    "def find_median_year(weeks):\n",
    "    #Split weeks to list\n",
    "    weeks_list = weeks.split(',')\n",
    "    #Convert to years\n",
    "    year_list = pd.to_datetime(weeks_list,format = '%Y-%m-%d').year\n",
    "    #Return median year\n",
    "    med_year = np.median(year_list)\n",
    "    return pd.to_datetime(med_year,format = '%Y').year"
   ]
  },
  {
   "cell_type": "code",
   "execution_count": 8,
   "metadata": {},
   "outputs": [],
   "source": [
    "# Find median charting year for all tracks\n",
    "\n",
    "lyrics_df['median_year'] = lyrics_df['weeks'].apply(lambda x: find_median_year(x))"
   ]
  },
  {
   "cell_type": "code",
   "execution_count": 9,
   "metadata": {},
   "outputs": [
    {
     "data": {
      "text/html": [
       "<div>\n",
       "<style scoped>\n",
       "    .dataframe tbody tr th:only-of-type {\n",
       "        vertical-align: middle;\n",
       "    }\n",
       "\n",
       "    .dataframe tbody tr th {\n",
       "        vertical-align: top;\n",
       "    }\n",
       "\n",
       "    .dataframe thead th {\n",
       "        text-align: right;\n",
       "    }\n",
       "</style>\n",
       "<table border=\"1\" class=\"dataframe\">\n",
       "  <thead>\n",
       "    <tr style=\"text-align: right;\">\n",
       "      <th></th>\n",
       "      <th>artist</th>\n",
       "      <th>lyrics</th>\n",
       "      <th>source</th>\n",
       "      <th>title</th>\n",
       "      <th>week_count</th>\n",
       "      <th>weeks</th>\n",
       "      <th>median_year</th>\n",
       "    </tr>\n",
       "  </thead>\n",
       "  <tbody>\n",
       "    <tr>\n",
       "      <th>0</th>\n",
       "      <td>Alabama</td>\n",
       "      <td>Lyin' beside you watching you sleepin'\\nAfter ...</td>\n",
       "      <td>wikilyrics</td>\n",
       "      <td>\"You've Got\" The Touch</td>\n",
       "      <td>15</td>\n",
       "      <td>1987-04-26,1987-04-19,1987-04-12,1987-04-05,19...</td>\n",
       "      <td>1987</td>\n",
       "    </tr>\n",
       "    <tr>\n",
       "      <th>1</th>\n",
       "      <td>Billie Jo Spears</td>\n",
       "      <td>Come and look at this old faded photograph\\nHo...</td>\n",
       "      <td>wikilyrics</td>\n",
       "      <td>'57 Chevrolet</td>\n",
       "      <td>9</td>\n",
       "      <td>1978-10-15,1978-10-08,1978-10-01,1978-09-24,19...</td>\n",
       "      <td>1978</td>\n",
       "    </tr>\n",
       "    <tr>\n",
       "      <th>2</th>\n",
       "      <td>Wynn Stewart</td>\n",
       "      <td>\\n\\nA flower needs the earth to make it grow\\n...</td>\n",
       "      <td>genius</td>\n",
       "      <td>'Cause I Have You</td>\n",
       "      <td>14</td>\n",
       "      <td>1967-10-22,1967-10-15,1967-10-08,1967-10-01,19...</td>\n",
       "      <td>1967</td>\n",
       "    </tr>\n",
       "    <tr>\n",
       "      <th>3</th>\n",
       "      <td>Clay Walker</td>\n",
       "      <td>'Bout ten years old, hide and seek\\nI found me...</td>\n",
       "      <td>wikilyrics</td>\n",
       "      <td>'Fore She Was Mama</td>\n",
       "      <td>25</td>\n",
       "      <td>2007-03-18,2007-03-11,2007-03-04,2007-02-25,20...</td>\n",
       "      <td>2006</td>\n",
       "    </tr>\n",
       "    <tr>\n",
       "      <th>4</th>\n",
       "      <td>Sawyer Brown</td>\n",
       "      <td>Sue and Jack fell in love 'round here \\nThey b...</td>\n",
       "      <td>wikilyrics</td>\n",
       "      <td>'Round Here</td>\n",
       "      <td>12</td>\n",
       "      <td>1996-02-25,1996-02-18,1996-02-11,1996-02-04,19...</td>\n",
       "      <td>1996</td>\n",
       "    </tr>\n",
       "  </tbody>\n",
       "</table>\n",
       "</div>"
      ],
      "text/plain": [
       "             artist                                             lyrics  \\\n",
       "0           Alabama  Lyin' beside you watching you sleepin'\\nAfter ...   \n",
       "1  Billie Jo Spears  Come and look at this old faded photograph\\nHo...   \n",
       "2      Wynn Stewart  \\n\\nA flower needs the earth to make it grow\\n...   \n",
       "3       Clay Walker  'Bout ten years old, hide and seek\\nI found me...   \n",
       "4      Sawyer Brown  Sue and Jack fell in love 'round here \\nThey b...   \n",
       "\n",
       "       source                   title  week_count  \\\n",
       "0  wikilyrics  \"You've Got\" The Touch          15   \n",
       "1  wikilyrics           '57 Chevrolet           9   \n",
       "2      genius       'Cause I Have You          14   \n",
       "3  wikilyrics      'Fore She Was Mama          25   \n",
       "4  wikilyrics             'Round Here          12   \n",
       "\n",
       "                                               weeks  median_year  \n",
       "0  1987-04-26,1987-04-19,1987-04-12,1987-04-05,19...         1987  \n",
       "1  1978-10-15,1978-10-08,1978-10-01,1978-09-24,19...         1978  \n",
       "2  1967-10-22,1967-10-15,1967-10-08,1967-10-01,19...         1967  \n",
       "3  2007-03-18,2007-03-11,2007-03-04,2007-02-25,20...         2006  \n",
       "4  1996-02-25,1996-02-18,1996-02-11,1996-02-04,19...         1996  "
      ]
     },
     "execution_count": 9,
     "metadata": {},
     "output_type": "execute_result"
    }
   ],
   "source": [
    "lyrics_df.head(5)"
   ]
  },
  {
   "cell_type": "markdown",
   "metadata": {},
   "source": [
    "#### Incorporate Text features:"
   ]
  },
  {
   "cell_type": "code",
   "execution_count": 10,
   "metadata": {},
   "outputs": [],
   "source": [
    "# Total character count in a song\n",
    "lyrics_df['characters'] = lyrics_df.loc[:,'lyrics'].str.len()\n",
    "\n",
    "# Total word count in a song\n",
    "lyrics_df['word_count'] = lyrics_df.loc[:,'lyrics'].str.split().str.len()\n",
    "\n",
    "# Total lines in a song\n",
    "lyrics_df['line_count'] = lyrics_df.loc[:,'lyrics'].str.split('\\n').str.len()\n",
    "\n",
    "# Unique words in a song\n",
    "lyrics_df['unique_count'] = lyrics_df.loc[:,'lyrics'].apply(lambda x: len(set(x.split())))\n",
    "\n",
    "# Metric to measure how lyrically diverse a song is\n",
    "lyrics_df['lexical_density'] = lyrics_df['unique_count'] / lyrics_df['word_count']"
   ]
  },
  {
   "cell_type": "code",
   "execution_count": 11,
   "metadata": {},
   "outputs": [
    {
     "data": {
      "text/html": [
       "<div>\n",
       "<style scoped>\n",
       "    .dataframe tbody tr th:only-of-type {\n",
       "        vertical-align: middle;\n",
       "    }\n",
       "\n",
       "    .dataframe tbody tr th {\n",
       "        vertical-align: top;\n",
       "    }\n",
       "\n",
       "    .dataframe thead th {\n",
       "        text-align: right;\n",
       "    }\n",
       "</style>\n",
       "<table border=\"1\" class=\"dataframe\">\n",
       "  <thead>\n",
       "    <tr style=\"text-align: right;\">\n",
       "      <th></th>\n",
       "      <th>artist</th>\n",
       "      <th>lyrics</th>\n",
       "      <th>source</th>\n",
       "      <th>title</th>\n",
       "      <th>week_count</th>\n",
       "      <th>weeks</th>\n",
       "      <th>median_year</th>\n",
       "      <th>characters</th>\n",
       "      <th>word_count</th>\n",
       "      <th>line_count</th>\n",
       "      <th>unique_count</th>\n",
       "      <th>lexical_density</th>\n",
       "    </tr>\n",
       "  </thead>\n",
       "  <tbody>\n",
       "    <tr>\n",
       "      <th>0</th>\n",
       "      <td>Alabama</td>\n",
       "      <td>Lyin' beside you watching you sleepin'\\nAfter ...</td>\n",
       "      <td>wikilyrics</td>\n",
       "      <td>\"You've Got\" The Touch</td>\n",
       "      <td>15</td>\n",
       "      <td>1987-04-26,1987-04-19,1987-04-12,1987-04-05,19...</td>\n",
       "      <td>1987</td>\n",
       "      <td>1204</td>\n",
       "      <td>252</td>\n",
       "      <td>49</td>\n",
       "      <td>84</td>\n",
       "      <td>0.333333</td>\n",
       "    </tr>\n",
       "    <tr>\n",
       "      <th>1</th>\n",
       "      <td>Billie Jo Spears</td>\n",
       "      <td>Come and look at this old faded photograph\\nHo...</td>\n",
       "      <td>wikilyrics</td>\n",
       "      <td>'57 Chevrolet</td>\n",
       "      <td>9</td>\n",
       "      <td>1978-10-15,1978-10-08,1978-10-01,1978-09-24,19...</td>\n",
       "      <td>1978</td>\n",
       "      <td>1122</td>\n",
       "      <td>232</td>\n",
       "      <td>33</td>\n",
       "      <td>106</td>\n",
       "      <td>0.456897</td>\n",
       "    </tr>\n",
       "    <tr>\n",
       "      <th>2</th>\n",
       "      <td>Wynn Stewart</td>\n",
       "      <td>\\n\\nA flower needs the earth to make it grow\\n...</td>\n",
       "      <td>genius</td>\n",
       "      <td>'Cause I Have You</td>\n",
       "      <td>14</td>\n",
       "      <td>1967-10-22,1967-10-15,1967-10-08,1967-10-01,19...</td>\n",
       "      <td>1967</td>\n",
       "      <td>540</td>\n",
       "      <td>117</td>\n",
       "      <td>19</td>\n",
       "      <td>68</td>\n",
       "      <td>0.581197</td>\n",
       "    </tr>\n",
       "    <tr>\n",
       "      <th>3</th>\n",
       "      <td>Clay Walker</td>\n",
       "      <td>'Bout ten years old, hide and seek\\nI found me...</td>\n",
       "      <td>wikilyrics</td>\n",
       "      <td>'Fore She Was Mama</td>\n",
       "      <td>25</td>\n",
       "      <td>2007-03-18,2007-03-11,2007-03-04,2007-02-25,20...</td>\n",
       "      <td>2006</td>\n",
       "      <td>1448</td>\n",
       "      <td>280</td>\n",
       "      <td>52</td>\n",
       "      <td>160</td>\n",
       "      <td>0.571429</td>\n",
       "    </tr>\n",
       "    <tr>\n",
       "      <th>4</th>\n",
       "      <td>Sawyer Brown</td>\n",
       "      <td>Sue and Jack fell in love 'round here \\nThey b...</td>\n",
       "      <td>wikilyrics</td>\n",
       "      <td>'Round Here</td>\n",
       "      <td>12</td>\n",
       "      <td>1996-02-25,1996-02-18,1996-02-11,1996-02-04,19...</td>\n",
       "      <td>1996</td>\n",
       "      <td>1017</td>\n",
       "      <td>203</td>\n",
       "      <td>27</td>\n",
       "      <td>71</td>\n",
       "      <td>0.349754</td>\n",
       "    </tr>\n",
       "  </tbody>\n",
       "</table>\n",
       "</div>"
      ],
      "text/plain": [
       "             artist                                             lyrics  \\\n",
       "0           Alabama  Lyin' beside you watching you sleepin'\\nAfter ...   \n",
       "1  Billie Jo Spears  Come and look at this old faded photograph\\nHo...   \n",
       "2      Wynn Stewart  \\n\\nA flower needs the earth to make it grow\\n...   \n",
       "3       Clay Walker  'Bout ten years old, hide and seek\\nI found me...   \n",
       "4      Sawyer Brown  Sue and Jack fell in love 'round here \\nThey b...   \n",
       "\n",
       "       source                   title  week_count  \\\n",
       "0  wikilyrics  \"You've Got\" The Touch          15   \n",
       "1  wikilyrics           '57 Chevrolet           9   \n",
       "2      genius       'Cause I Have You          14   \n",
       "3  wikilyrics      'Fore She Was Mama          25   \n",
       "4  wikilyrics             'Round Here          12   \n",
       "\n",
       "                                               weeks  median_year  characters  \\\n",
       "0  1987-04-26,1987-04-19,1987-04-12,1987-04-05,19...         1987        1204   \n",
       "1  1978-10-15,1978-10-08,1978-10-01,1978-09-24,19...         1978        1122   \n",
       "2  1967-10-22,1967-10-15,1967-10-08,1967-10-01,19...         1967         540   \n",
       "3  2007-03-18,2007-03-11,2007-03-04,2007-02-25,20...         2006        1448   \n",
       "4  1996-02-25,1996-02-18,1996-02-11,1996-02-04,19...         1996        1017   \n",
       "\n",
       "   word_count  line_count  unique_count  lexical_density  \n",
       "0         252          49            84         0.333333  \n",
       "1         232          33           106         0.456897  \n",
       "2         117          19            68         0.581197  \n",
       "3         280          52           160         0.571429  \n",
       "4         203          27            71         0.349754  "
      ]
     },
     "execution_count": 11,
     "metadata": {},
     "output_type": "execute_result"
    }
   ],
   "source": [
    "lyrics_df.head()"
   ]
  },
  {
   "cell_type": "code",
   "execution_count": 12,
   "metadata": {},
   "outputs": [
    {
     "data": {
      "text/html": [
       "<div>\n",
       "<style scoped>\n",
       "    .dataframe tbody tr th:only-of-type {\n",
       "        vertical-align: middle;\n",
       "    }\n",
       "\n",
       "    .dataframe tbody tr th {\n",
       "        vertical-align: top;\n",
       "    }\n",
       "\n",
       "    .dataframe thead th {\n",
       "        text-align: right;\n",
       "    }\n",
       "</style>\n",
       "<table border=\"1\" class=\"dataframe\">\n",
       "  <thead>\n",
       "    <tr style=\"text-align: right;\">\n",
       "      <th></th>\n",
       "      <th>week_count</th>\n",
       "      <th>median_year</th>\n",
       "      <th>characters</th>\n",
       "      <th>word_count</th>\n",
       "      <th>line_count</th>\n",
       "      <th>unique_count</th>\n",
       "      <th>lexical_density</th>\n",
       "    </tr>\n",
       "  </thead>\n",
       "  <tbody>\n",
       "    <tr>\n",
       "      <th>count</th>\n",
       "      <td>8715.000000</td>\n",
       "      <td>8715.000000</td>\n",
       "      <td>8715.000000</td>\n",
       "      <td>8715.000000</td>\n",
       "      <td>8715.000000</td>\n",
       "      <td>8715.000000</td>\n",
       "      <td>8715.000000</td>\n",
       "    </tr>\n",
       "    <tr>\n",
       "      <th>mean</th>\n",
       "      <td>14.012163</td>\n",
       "      <td>1989.525875</td>\n",
       "      <td>1101.405852</td>\n",
       "      <td>221.260585</td>\n",
       "      <td>35.675043</td>\n",
       "      <td>102.643488</td>\n",
       "      <td>0.483913</td>\n",
       "    </tr>\n",
       "    <tr>\n",
       "      <th>std</th>\n",
       "      <td>8.151894</td>\n",
       "      <td>16.538265</td>\n",
       "      <td>453.602995</td>\n",
       "      <td>88.427596</td>\n",
       "      <td>15.879205</td>\n",
       "      <td>38.354547</td>\n",
       "      <td>0.107128</td>\n",
       "    </tr>\n",
       "    <tr>\n",
       "      <th>min</th>\n",
       "      <td>1.000000</td>\n",
       "      <td>1959.000000</td>\n",
       "      <td>129.000000</td>\n",
       "      <td>21.000000</td>\n",
       "      <td>1.000000</td>\n",
       "      <td>10.000000</td>\n",
       "      <td>0.108333</td>\n",
       "    </tr>\n",
       "    <tr>\n",
       "      <th>25%</th>\n",
       "      <td>9.000000</td>\n",
       "      <td>1975.000000</td>\n",
       "      <td>794.000000</td>\n",
       "      <td>160.000000</td>\n",
       "      <td>24.000000</td>\n",
       "      <td>80.000000</td>\n",
       "      <td>0.408163</td>\n",
       "    </tr>\n",
       "    <tr>\n",
       "      <th>50%</th>\n",
       "      <td>14.000000</td>\n",
       "      <td>1989.000000</td>\n",
       "      <td>1052.000000</td>\n",
       "      <td>212.000000</td>\n",
       "      <td>35.000000</td>\n",
       "      <td>98.000000</td>\n",
       "      <td>0.474747</td>\n",
       "    </tr>\n",
       "    <tr>\n",
       "      <th>75%</th>\n",
       "      <td>18.000000</td>\n",
       "      <td>2003.000000</td>\n",
       "      <td>1354.000000</td>\n",
       "      <td>271.000000</td>\n",
       "      <td>45.000000</td>\n",
       "      <td>120.000000</td>\n",
       "      <td>0.550753</td>\n",
       "    </tr>\n",
       "    <tr>\n",
       "      <th>max</th>\n",
       "      <td>70.000000</td>\n",
       "      <td>2019.000000</td>\n",
       "      <td>15923.000000</td>\n",
       "      <td>2739.000000</td>\n",
       "      <td>250.000000</td>\n",
       "      <td>1436.000000</td>\n",
       "      <td>0.909091</td>\n",
       "    </tr>\n",
       "  </tbody>\n",
       "</table>\n",
       "</div>"
      ],
      "text/plain": [
       "        week_count  median_year    characters   word_count   line_count  \\\n",
       "count  8715.000000  8715.000000   8715.000000  8715.000000  8715.000000   \n",
       "mean     14.012163  1989.525875   1101.405852   221.260585    35.675043   \n",
       "std       8.151894    16.538265    453.602995    88.427596    15.879205   \n",
       "min       1.000000  1959.000000    129.000000    21.000000     1.000000   \n",
       "25%       9.000000  1975.000000    794.000000   160.000000    24.000000   \n",
       "50%      14.000000  1989.000000   1052.000000   212.000000    35.000000   \n",
       "75%      18.000000  2003.000000   1354.000000   271.000000    45.000000   \n",
       "max      70.000000  2019.000000  15923.000000  2739.000000   250.000000   \n",
       "\n",
       "       unique_count  lexical_density  \n",
       "count   8715.000000      8715.000000  \n",
       "mean     102.643488         0.483913  \n",
       "std       38.354547         0.107128  \n",
       "min       10.000000         0.108333  \n",
       "25%       80.000000         0.408163  \n",
       "50%       98.000000         0.474747  \n",
       "75%      120.000000         0.550753  \n",
       "max     1436.000000         0.909091  "
      ]
     },
     "execution_count": 12,
     "metadata": {},
     "output_type": "execute_result"
    }
   ],
   "source": [
    "# Detect anomalies\n",
    "\n",
    "lyrics_df.describe()"
   ]
  },
  {
   "cell_type": "code",
   "execution_count": 13,
   "metadata": {},
   "outputs": [],
   "source": [
    "# Drop tracks with word count <= 1\n",
    "\n",
    "mask = lyrics_df['word_count'] <= 0\n",
    "\n",
    "lyrics_df.drop(lyrics_df[mask].index,inplace = True)"
   ]
  },
  {
   "cell_type": "code",
   "execution_count": 14,
   "metadata": {},
   "outputs": [],
   "source": [
    "# Drop tracks that don't contain lyrics because the song is licensed\n",
    "\n",
    "mask = lyrics_df['lyrics'].str.contains('licensed')\n",
    "lyrics_df = lyrics_df.drop(lyrics_df[mask].index,)"
   ]
  },
  {
   "cell_type": "code",
   "execution_count": 15,
   "metadata": {},
   "outputs": [],
   "source": [
    "# Drop tracks that are instrumental\n",
    "\n",
    "mask = lyrics_df['lyrics'].str.contains('trebleclef')\n",
    "\n",
    "lyrics_df = lyrics_df.drop(lyrics_df[mask].index,)"
   ]
  },
  {
   "cell_type": "code",
   "execution_count": 16,
   "metadata": {},
   "outputs": [],
   "source": [
    "# Drop tracks with unusually high word count (probably scraped wrong result frmo Genius)\n",
    "\n",
    "mask = lyrics_df['unique_count'] > lyrics_df['unique_count'].quantile(q = .9999)\n",
    "\n",
    "lyrics_df = lyrics_df.drop(lyrics_df[mask].index,)"
   ]
  },
  {
   "cell_type": "code",
   "execution_count": 17,
   "metadata": {},
   "outputs": [],
   "source": [
    "# Reset index\n",
    "\n",
    "lyrics_df.reset_index(drop = True, inplace = True)"
   ]
  },
  {
   "cell_type": "markdown",
   "metadata": {},
   "source": [
    "#### Visualize data / feature distributions"
   ]
  },
  {
   "cell_type": "code",
   "execution_count": 18,
   "metadata": {},
   "outputs": [],
   "source": [
    "def plot_distribution(df,feat):\n",
    "    try:\n",
    "        plt.figure(figsize = (8,5))\n",
    "        plt.title(str(feat) + ' distribution')\n",
    "        sns.distplot(df.loc[:,feat]);\n",
    "    except TypeError:\n",
    "        plt.xticks(rotation = 45)\n",
    "        sns.countplot(df.loc[:,feat])"
   ]
  },
  {
   "cell_type": "code",
   "execution_count": 19,
   "metadata": {},
   "outputs": [],
   "source": [
    "# Features to plot\n",
    "\n",
    "features = ['median_year','characters','word_count','line_count','line_count','unique_count','lexical_density']"
   ]
  },
  {
   "cell_type": "code",
   "execution_count": 20,
   "metadata": {},
   "outputs": [
    {
     "data": {
      "image/png": "[encoded data removed]",
      "text/plain": [
       "<Figure size 576x360 with 1 Axes>"
      ]
     },
     "metadata": {
      "needs_background": "light"
     },
     "output_type": "display_data"
    },
    {
     "data": {
      "image/png": "[encoded data removed]",
      "text/plain": [
       "<Figure size 576x360 with 1 Axes>"
      ]
     },
     "metadata": {
      "needs_background": "light"
     },
     "output_type": "display_data"
    },
    {
     "data": {
      "image/png": "[encoded data removed]",
      "text/plain": [
       "<Figure size 576x360 with 1 Axes>"
      ]
     },
     "metadata": {
      "needs_background": "light"
     },
     "output_type": "display_data"
    },
    {
     "data": {
      "image/png": "[encoded data removed]",
      "text/plain": [
       "<Figure size 576x360 with 1 Axes>"
      ]
     },
     "metadata": {
      "needs_background": "light"
     },
     "output_type": "display_data"
    },
    {
     "data": {
      "image/png": "[encoded data removed]",
      "text/plain": [
       "<Figure size 576x360 with 1 Axes>"
      ]
     },
     "metadata": {
      "needs_background": "light"
     },
     "output_type": "display_data"
    },
    {
     "data": {
      "image/png": "[encoded data removed]",
      "text/plain": [
       "<Figure size 576x360 with 1 Axes>"
      ]
     },
     "metadata": {
      "needs_background": "light"
     },
     "output_type": "display_data"
    },
    {
     "data": {
      "image/png": "[encoded data removed]",
      "text/plain": [
       "<Figure size 576x360 with 1 Axes>"
      ]
     },
     "metadata": {
      "needs_background": "light"
     },
     "output_type": "display_data"
    }
   ],
   "source": [
    "for feature in features:\n",
    "    plot_distribution(lyrics_df,feature)"
   ]
  },
  {
   "cell_type": "markdown",
   "metadata": {},
   "source": [
    "#### Lexical Density has Decreased Overall in Country Music:"
   ]
  },
  {
   "cell_type": "code",
   "execution_count": 21,
   "metadata": {},
   "outputs": [
    {
     "data": {
      "image/png": "[encoded data removed]",
      "text/plain": [
       "<Figure size 1440x720 with 1 Axes>"
      ]
     },
     "metadata": {
      "needs_background": "light"
     },
     "output_type": "display_data"
    }
   ],
   "source": [
    "plt.figure(figsize = (20,10))\n",
    "sns.lineplot(x = 'median_year',y = 'lexical_density',data = lyrics_df);"
   ]
  },
  {
   "cell_type": "markdown",
   "metadata": {},
   "source": [
    "<a id='2a3'></a>"
   ]
  },
  {
   "cell_type": "markdown",
   "metadata": {},
   "source": [
    "### __2b3. Process Song Lyrics__"
   ]
  },
  {
   "cell_type": "code",
   "execution_count": 22,
   "metadata": {},
   "outputs": [],
   "source": [
    "# Function to tokenize lyrics\n",
    "\n",
    "def tokenize(text):\n",
    "    return [w for s in sent_tokenize(text) for w in word_tokenize(s)]"
   ]
  },
  {
   "cell_type": "code",
   "execution_count": 23,
   "metadata": {},
   "outputs": [],
   "source": [
    "# Load stopwords from NLTK\n",
    "\n",
    "stop_words = stopwords.words('english')"
   ]
  },
  {
   "cell_type": "code",
   "execution_count": 24,
   "metadata": {},
   "outputs": [],
   "source": [
    "# Text cleaning pipeline:\n",
    "\n",
    "def clean_text(text, ):\n",
    "    def tokenize_text(text):\n",
    "        return [w for s in sent_tokenize(text) for w in TweetTokenizer().tokenize(s)]\n",
    "    def remove_punctuation(text):\n",
    "        tokens = tokenize_text(text)\n",
    "        tokens = [w for w in tokens if w.isalpha()]\n",
    "        return ' '.join(tokens)\n",
    "    def remove_stopwords(text):\n",
    "        tokens = [w for w in tokenize_text(text) if w not in stop_words]\n",
    "        return ' '.join(tokens)\n",
    "    text = text.strip(' ') #remove whitespace\n",
    "    text = text.lower() #lower case\n",
    "    text = remove_punctuation(text)\n",
    "    text = remove_stopwords(text)\n",
    "    return text"
   ]
  },
  {
   "cell_type": "code",
   "execution_count": 25,
   "metadata": {},
   "outputs": [],
   "source": [
    "# Apply text cleaning functions to dataframe\n",
    "\n",
    "lyrics_df['lyrics_processed'] = lyrics_df.loc[:,'lyrics'].apply(lambda x: clean_text(x))"
   ]
  },
  {
   "cell_type": "code",
   "execution_count": 26,
   "metadata": {},
   "outputs": [
    {
     "data": {
      "text/html": [
       "<div>\n",
       "<style scoped>\n",
       "    .dataframe tbody tr th:only-of-type {\n",
       "        vertical-align: middle;\n",
       "    }\n",
       "\n",
       "    .dataframe tbody tr th {\n",
       "        vertical-align: top;\n",
       "    }\n",
       "\n",
       "    .dataframe thead th {\n",
       "        text-align: right;\n",
       "    }\n",
       "</style>\n",
       "<table border=\"1\" class=\"dataframe\">\n",
       "  <thead>\n",
       "    <tr style=\"text-align: right;\">\n",
       "      <th></th>\n",
       "      <th>artist</th>\n",
       "      <th>lyrics</th>\n",
       "      <th>source</th>\n",
       "      <th>title</th>\n",
       "      <th>week_count</th>\n",
       "      <th>weeks</th>\n",
       "      <th>median_year</th>\n",
       "      <th>characters</th>\n",
       "      <th>word_count</th>\n",
       "      <th>line_count</th>\n",
       "      <th>unique_count</th>\n",
       "      <th>lexical_density</th>\n",
       "      <th>lyrics_processed</th>\n",
       "    </tr>\n",
       "  </thead>\n",
       "  <tbody>\n",
       "    <tr>\n",
       "      <th>0</th>\n",
       "      <td>Alabama</td>\n",
       "      <td>Lyin' beside you watching you sleepin'\\nAfter ...</td>\n",
       "      <td>wikilyrics</td>\n",
       "      <td>\"You've Got\" The Touch</td>\n",
       "      <td>15</td>\n",
       "      <td>1987-04-26,1987-04-19,1987-04-12,1987-04-05,19...</td>\n",
       "      <td>1987</td>\n",
       "      <td>1204</td>\n",
       "      <td>252</td>\n",
       "      <td>49</td>\n",
       "      <td>84</td>\n",
       "      <td>0.333333</td>\n",
       "      <td>lyin beside watching sleepin loved tenderly se...</td>\n",
       "    </tr>\n",
       "    <tr>\n",
       "      <th>1</th>\n",
       "      <td>Billie Jo Spears</td>\n",
       "      <td>Come and look at this old faded photograph\\nHo...</td>\n",
       "      <td>wikilyrics</td>\n",
       "      <td>'57 Chevrolet</td>\n",
       "      <td>9</td>\n",
       "      <td>1978-10-15,1978-10-08,1978-10-01,1978-09-24,19...</td>\n",
       "      <td>1978</td>\n",
       "      <td>1122</td>\n",
       "      <td>232</td>\n",
       "      <td>33</td>\n",
       "      <td>106</td>\n",
       "      <td>0.456897</td>\n",
       "      <td>come look old faded photograph honey tell brin...</td>\n",
       "    </tr>\n",
       "    <tr>\n",
       "      <th>2</th>\n",
       "      <td>Wynn Stewart</td>\n",
       "      <td>\\n\\nA flower needs the earth to make it grow\\n...</td>\n",
       "      <td>genius</td>\n",
       "      <td>'Cause I Have You</td>\n",
       "      <td>14</td>\n",
       "      <td>1967-10-22,1967-10-15,1967-10-08,1967-10-01,19...</td>\n",
       "      <td>1967</td>\n",
       "      <td>540</td>\n",
       "      <td>117</td>\n",
       "      <td>19</td>\n",
       "      <td>68</td>\n",
       "      <td>0.581197</td>\n",
       "      <td>flower needs earth make grow river needs rains...</td>\n",
       "    </tr>\n",
       "    <tr>\n",
       "      <th>3</th>\n",
       "      <td>Clay Walker</td>\n",
       "      <td>'Bout ten years old, hide and seek\\nI found me...</td>\n",
       "      <td>wikilyrics</td>\n",
       "      <td>'Fore She Was Mama</td>\n",
       "      <td>25</td>\n",
       "      <td>2007-03-18,2007-03-11,2007-03-04,2007-02-25,20...</td>\n",
       "      <td>2006</td>\n",
       "      <td>1448</td>\n",
       "      <td>280</td>\n",
       "      <td>52</td>\n",
       "      <td>160</td>\n",
       "      <td>0.571429</td>\n",
       "      <td>bout ten years old hide seek found closet read...</td>\n",
       "    </tr>\n",
       "    <tr>\n",
       "      <th>4</th>\n",
       "      <td>Sawyer Brown</td>\n",
       "      <td>Sue and Jack fell in love 'round here \\nThey b...</td>\n",
       "      <td>wikilyrics</td>\n",
       "      <td>'Round Here</td>\n",
       "      <td>12</td>\n",
       "      <td>1996-02-25,1996-02-18,1996-02-11,1996-02-04,19...</td>\n",
       "      <td>1996</td>\n",
       "      <td>1017</td>\n",
       "      <td>203</td>\n",
       "      <td>27</td>\n",
       "      <td>71</td>\n",
       "      <td>0.349754</td>\n",
       "      <td>sue jack fell love round goin steady years aff...</td>\n",
       "    </tr>\n",
       "  </tbody>\n",
       "</table>\n",
       "</div>"
      ],
      "text/plain": [
       "             artist                                             lyrics  \\\n",
       "0           Alabama  Lyin' beside you watching you sleepin'\\nAfter ...   \n",
       "1  Billie Jo Spears  Come and look at this old faded photograph\\nHo...   \n",
       "2      Wynn Stewart  \\n\\nA flower needs the earth to make it grow\\n...   \n",
       "3       Clay Walker  'Bout ten years old, hide and seek\\nI found me...   \n",
       "4      Sawyer Brown  Sue and Jack fell in love 'round here \\nThey b...   \n",
       "\n",
       "       source                   title  week_count  \\\n",
       "0  wikilyrics  \"You've Got\" The Touch          15   \n",
       "1  wikilyrics           '57 Chevrolet           9   \n",
       "2      genius       'Cause I Have You          14   \n",
       "3  wikilyrics      'Fore She Was Mama          25   \n",
       "4  wikilyrics             'Round Here          12   \n",
       "\n",
       "                                               weeks  median_year  characters  \\\n",
       "0  1987-04-26,1987-04-19,1987-04-12,1987-04-05,19...         1987        1204   \n",
       "1  1978-10-15,1978-10-08,1978-10-01,1978-09-24,19...         1978        1122   \n",
       "2  1967-10-22,1967-10-15,1967-10-08,1967-10-01,19...         1967         540   \n",
       "3  2007-03-18,2007-03-11,2007-03-04,2007-02-25,20...         2006        1448   \n",
       "4  1996-02-25,1996-02-18,1996-02-11,1996-02-04,19...         1996        1017   \n",
       "\n",
       "   word_count  line_count  unique_count  lexical_density  \\\n",
       "0         252          49            84         0.333333   \n",
       "1         232          33           106         0.456897   \n",
       "2         117          19            68         0.581197   \n",
       "3         280          52           160         0.571429   \n",
       "4         203          27            71         0.349754   \n",
       "\n",
       "                                    lyrics_processed  \n",
       "0  lyin beside watching sleepin loved tenderly se...  \n",
       "1  come look old faded photograph honey tell brin...  \n",
       "2  flower needs earth make grow river needs rains...  \n",
       "3  bout ten years old hide seek found closet read...  \n",
       "4  sue jack fell love round goin steady years aff...  "
      ]
     },
     "execution_count": 26,
     "metadata": {},
     "output_type": "execute_result"
    }
   ],
   "source": [
    "lyrics_df.head()"
   ]
  },
  {
   "cell_type": "code",
   "execution_count": 27,
   "metadata": {},
   "outputs": [],
   "source": [
    "# Instantiate lemmatizer\n",
    "\n",
    "lemmatizer = WordNetLemmatizer()"
   ]
  },
  {
   "cell_type": "code",
   "execution_count": 28,
   "metadata": {},
   "outputs": [],
   "source": [
    "def lemmatize_text(text):\n",
    "    text = [lemmatizer.lemmatize(w) for w in text.split(' ')]\n",
    "    return ' '.join(text)"
   ]
  },
  {
   "cell_type": "code",
   "execution_count": 29,
   "metadata": {},
   "outputs": [],
   "source": [
    "# Lemmatize lyrics:\n",
    "\n",
    "lyrics_df['lyrics_processed'] = lyrics_df.loc[:,'lyrics_processed'].apply(lambda x: lemmatize_text(x))"
   ]
  },
  {
   "cell_type": "code",
   "execution_count": 30,
   "metadata": {},
   "outputs": [
    {
     "data": {
      "text/html": [
       "<div>\n",
       "<style scoped>\n",
       "    .dataframe tbody tr th:only-of-type {\n",
       "        vertical-align: middle;\n",
       "    }\n",
       "\n",
       "    .dataframe tbody tr th {\n",
       "        vertical-align: top;\n",
       "    }\n",
       "\n",
       "    .dataframe thead th {\n",
       "        text-align: right;\n",
       "    }\n",
       "</style>\n",
       "<table border=\"1\" class=\"dataframe\">\n",
       "  <thead>\n",
       "    <tr style=\"text-align: right;\">\n",
       "      <th></th>\n",
       "      <th>artist</th>\n",
       "      <th>lyrics</th>\n",
       "      <th>source</th>\n",
       "      <th>title</th>\n",
       "      <th>week_count</th>\n",
       "      <th>weeks</th>\n",
       "      <th>median_year</th>\n",
       "      <th>characters</th>\n",
       "      <th>word_count</th>\n",
       "      <th>line_count</th>\n",
       "      <th>unique_count</th>\n",
       "      <th>lexical_density</th>\n",
       "      <th>lyrics_processed</th>\n",
       "    </tr>\n",
       "  </thead>\n",
       "  <tbody>\n",
       "    <tr>\n",
       "      <th>0</th>\n",
       "      <td>Alabama</td>\n",
       "      <td>Lyin' beside you watching you sleepin'\\nAfter ...</td>\n",
       "      <td>wikilyrics</td>\n",
       "      <td>\"You've Got\" The Touch</td>\n",
       "      <td>15</td>\n",
       "      <td>1987-04-26,1987-04-19,1987-04-12,1987-04-05,19...</td>\n",
       "      <td>1987</td>\n",
       "      <td>1204</td>\n",
       "      <td>252</td>\n",
       "      <td>49</td>\n",
       "      <td>84</td>\n",
       "      <td>0.333333</td>\n",
       "      <td>lyin beside watching sleepin loved tenderly se...</td>\n",
       "    </tr>\n",
       "    <tr>\n",
       "      <th>1</th>\n",
       "      <td>Billie Jo Spears</td>\n",
       "      <td>Come and look at this old faded photograph\\nHo...</td>\n",
       "      <td>wikilyrics</td>\n",
       "      <td>'57 Chevrolet</td>\n",
       "      <td>9</td>\n",
       "      <td>1978-10-15,1978-10-08,1978-10-01,1978-09-24,19...</td>\n",
       "      <td>1978</td>\n",
       "      <td>1122</td>\n",
       "      <td>232</td>\n",
       "      <td>33</td>\n",
       "      <td>106</td>\n",
       "      <td>0.456897</td>\n",
       "      <td>come look old faded photograph honey tell brin...</td>\n",
       "    </tr>\n",
       "    <tr>\n",
       "      <th>2</th>\n",
       "      <td>Wynn Stewart</td>\n",
       "      <td>\\n\\nA flower needs the earth to make it grow\\n...</td>\n",
       "      <td>genius</td>\n",
       "      <td>'Cause I Have You</td>\n",
       "      <td>14</td>\n",
       "      <td>1967-10-22,1967-10-15,1967-10-08,1967-10-01,19...</td>\n",
       "      <td>1967</td>\n",
       "      <td>540</td>\n",
       "      <td>117</td>\n",
       "      <td>19</td>\n",
       "      <td>68</td>\n",
       "      <td>0.581197</td>\n",
       "      <td>flower need earth make grow river need rain ma...</td>\n",
       "    </tr>\n",
       "    <tr>\n",
       "      <th>3</th>\n",
       "      <td>Clay Walker</td>\n",
       "      <td>'Bout ten years old, hide and seek\\nI found me...</td>\n",
       "      <td>wikilyrics</td>\n",
       "      <td>'Fore She Was Mama</td>\n",
       "      <td>25</td>\n",
       "      <td>2007-03-18,2007-03-11,2007-03-04,2007-02-25,20...</td>\n",
       "      <td>2006</td>\n",
       "      <td>1448</td>\n",
       "      <td>280</td>\n",
       "      <td>52</td>\n",
       "      <td>160</td>\n",
       "      <td>0.571429</td>\n",
       "      <td>bout ten year old hide seek found closet ready...</td>\n",
       "    </tr>\n",
       "    <tr>\n",
       "      <th>4</th>\n",
       "      <td>Sawyer Brown</td>\n",
       "      <td>Sue and Jack fell in love 'round here \\nThey b...</td>\n",
       "      <td>wikilyrics</td>\n",
       "      <td>'Round Here</td>\n",
       "      <td>12</td>\n",
       "      <td>1996-02-25,1996-02-18,1996-02-11,1996-02-04,19...</td>\n",
       "      <td>1996</td>\n",
       "      <td>1017</td>\n",
       "      <td>203</td>\n",
       "      <td>27</td>\n",
       "      <td>71</td>\n",
       "      <td>0.349754</td>\n",
       "      <td>sue jack fell love round goin steady year affo...</td>\n",
       "    </tr>\n",
       "  </tbody>\n",
       "</table>\n",
       "</div>"
      ],
      "text/plain": [
       "             artist                                             lyrics  \\\n",
       "0           Alabama  Lyin' beside you watching you sleepin'\\nAfter ...   \n",
       "1  Billie Jo Spears  Come and look at this old faded photograph\\nHo...   \n",
       "2      Wynn Stewart  \\n\\nA flower needs the earth to make it grow\\n...   \n",
       "3       Clay Walker  'Bout ten years old, hide and seek\\nI found me...   \n",
       "4      Sawyer Brown  Sue and Jack fell in love 'round here \\nThey b...   \n",
       "\n",
       "       source                   title  week_count  \\\n",
       "0  wikilyrics  \"You've Got\" The Touch          15   \n",
       "1  wikilyrics           '57 Chevrolet           9   \n",
       "2      genius       'Cause I Have You          14   \n",
       "3  wikilyrics      'Fore She Was Mama          25   \n",
       "4  wikilyrics             'Round Here          12   \n",
       "\n",
       "                                               weeks  median_year  characters  \\\n",
       "0  1987-04-26,1987-04-19,1987-04-12,1987-04-05,19...         1987        1204   \n",
       "1  1978-10-15,1978-10-08,1978-10-01,1978-09-24,19...         1978        1122   \n",
       "2  1967-10-22,1967-10-15,1967-10-08,1967-10-01,19...         1967         540   \n",
       "3  2007-03-18,2007-03-11,2007-03-04,2007-02-25,20...         2006        1448   \n",
       "4  1996-02-25,1996-02-18,1996-02-11,1996-02-04,19...         1996        1017   \n",
       "\n",
       "   word_count  line_count  unique_count  lexical_density  \\\n",
       "0         252          49            84         0.333333   \n",
       "1         232          33           106         0.456897   \n",
       "2         117          19            68         0.581197   \n",
       "3         280          52           160         0.571429   \n",
       "4         203          27            71         0.349754   \n",
       "\n",
       "                                    lyrics_processed  \n",
       "0  lyin beside watching sleepin loved tenderly se...  \n",
       "1  come look old faded photograph honey tell brin...  \n",
       "2  flower need earth make grow river need rain ma...  \n",
       "3  bout ten year old hide seek found closet ready...  \n",
       "4  sue jack fell love round goin steady year affo...  "
      ]
     },
     "execution_count": 30,
     "metadata": {},
     "output_type": "execute_result"
    }
   ],
   "source": [
    "lyrics_df.head()"
   ]
  },
  {
   "cell_type": "code",
   "execution_count": 31,
   "metadata": {},
   "outputs": [],
   "source": [
    "# Save processed lyrics\n",
    "\n",
    "lyrics_df.to_pickle(data_dir + 'lyrics_processed_df.pkl')"
   ]
  }
 ],
 "metadata": {
  "kernelspec": {
   "display_name": "Python 3",
   "language": "python",
   "name": "python3"
  },
  "language_info": {
   "codemirror_mode": {
    "name": "ipython",
    "version": 3
   },
   "file_extension": ".py",
   "mimetype": "text/x-python",
   "name": "python",
   "nbconvert_exporter": "python",
   "pygments_lexer": "ipython3",
   "version": "3.6.8"
  }
 },
 "nbformat": 4,
 "nbformat_minor": 2
}
